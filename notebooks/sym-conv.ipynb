{
 "cells": [
  {
   "cell_type": "code",
   "execution_count": null,
   "metadata": {},
   "outputs": [],
   "source": [
    "from fastcore.test import *\n",
    "from IPython.display import Markdown, YouTubeVideo\n",
    "from manim import *\n",
    "import numpy as np\n",
    "from scipy.signal import convolve2d\n",
    "from sympy import (\n",
    "    Add,\n",
    "    Derivative,\n",
    "    Expr,\n",
    "    Function,\n",
    "    Indexed,\n",
    "    IndexedBase,\n",
    "    latex,\n",
    "    Mul,\n",
    "    Symbol,\n",
    "    symbols,\n",
    ")\n",
    "from typing import Dict, List, Tuple"
   ]
  },
  {
   "cell_type": "code",
   "execution_count": null,
   "metadata": {},
   "outputs": [],
   "source": [
    "config.media_embed = True"
   ]
  },
  {
   "attachments": {},
   "cell_type": "markdown",
   "metadata": {},
   "source": [
    "# Convolution Algorithm\n",
    "\n",
    "Below is the convolution* function I implemented for my CNN course. It's probably not the most efficient implementation, but writing it was a good learning exercise. \n",
    "\n",
    ">\\*I'm aware that, mathematically speaking, what I'm implementing here is actually *cross-correlation* rather than convolution. But this is what deep-learning practitioners call convolution, so I'm going with it. [This article](https://towardsdatascience.com/convolution-vs-correlation-af868b6b4fb5) offers a good description of the differences. tl;dr: in true mathematical convolution, you're supposed to flip the kernel 180° before applying it."
   ]
  },
  {
   "cell_type": "code",
   "execution_count": null,
   "metadata": {},
   "outputs": [],
   "source": [
    "def convolve(X: np.ndarray, filter: np.ndarray, zero_pad_width: int, stride: int):\n",
    "    X_pad = np.pad(\n",
    "        X,\n",
    "        ((zero_pad_width, zero_pad_width), (zero_pad_width, zero_pad_width)),\n",
    "        mode='constant',\n",
    "        constant_values=(0.0, 0.0),\n",
    "    )\n",
    "\n",
    "    in_H, in_W = X.shape\n",
    "    f, f = filter.shape\n",
    "\n",
    "    out_H = int((in_H + (2 * zero_pad_width) - f) / stride) + 1\n",
    "    out_W = int((in_W + (2 * zero_pad_width) - f) / stride) + 1\n",
    "\n",
    "    output = np.zeros((out_H, out_W), dtype=X.dtype)\n",
    "\n",
    "    for out_row in range(out_H):\n",
    "        for out_col in range(out_W):\n",
    "            in_start_row = out_row * stride\n",
    "            in_start_col = out_col * stride\n",
    "            output[out_row][out_col] = sum(\n",
    "                (\n",
    "                    X_pad[in_row][in_col] * filter[i][j]\n",
    "                    for i, in_row in enumerate(range(in_start_row, in_start_row + f))\n",
    "                    for j, in_col in enumerate(range(in_start_col, in_start_col + f))\n",
    "                )\n",
    "            )\n",
    "\n",
    "    return output"
   ]
  },
  {
   "attachments": {},
   "cell_type": "markdown",
   "metadata": {},
   "source": [
    "We can test it with some sample data."
   ]
  },
  {
   "cell_type": "code",
   "execution_count": null,
   "metadata": {},
   "outputs": [],
   "source": [
    "X_test = np.array(\n",
    "    [\n",
    "        [1.0, 2.0, 3.0, 4.0,],\n",
    "        [1.0, 2.0, 3.0, 4.0,],\n",
    "        [1.0, 2.0, 3.0, 4.0,],\n",
    "        [1.0, 2.0, 3.0, 4.0,],\n",
    "    ]\n",
    ")\n",
    "\n",
    "\n",
    "f_test = np.array(\n",
    "    [\n",
    "        [0.0, 1.0,],\n",
    "        [1.0, 0.0,],\n",
    "    ]\n",
    ")\n",
    "\n",
    "expected = np.array(\n",
    "    [\n",
    "        [3.0, 5.0, 7.0], \n",
    "        [3.0, 5.0, 7.0], \n",
    "        [3.0, 5.0, 7.0]\n",
    "    ]\n",
    ")\n",
    "\n",
    "test_eq(convolve(X_test, f_test, 0, 1), expected)"
   ]
  },
  {
   "cell_type": "code",
   "execution_count": null,
   "metadata": {},
   "outputs": [],
   "source": [
    "# Test output of our convolve function is consistent with scipy\n",
    "test_eq(\n",
    "    convolve(X_test, f_test, 0, 1), # ours\n",
    "    convolve2d(X_test, f_test, mode='valid') # scipy\n",
    ")"
   ]
  },
  {
   "attachments": {},
   "cell_type": "markdown",
   "metadata": {},
   "source": [
    "# Convolution with Symbols\n",
    "It turns out, the same convolution code works just as well when the contents of the input arrays are symbols instead of numbers. We can use the symbolic expression library, [SymPy](https://www.coursera.org/specializations/deep-learning), to represent symbols."
   ]
  },
  {
   "cell_type": "code",
   "execution_count": null,
   "metadata": {},
   "outputs": [
    {
     "data": {
      "text/plain": [
       "array([[w_{11}*x_{11} + w_{12}*x_{12} + w_{21}*x_{21} + w_{22}*x_{22},\n",
       "        w_{11}*x_{12} + w_{12}*x_{13} + w_{21}*x_{22} + w_{22}*x_{23},\n",
       "        w_{11}*x_{13} + w_{12}*x_{14} + w_{21}*x_{23} + w_{22}*x_{24}],\n",
       "       [w_{11}*x_{21} + w_{12}*x_{22} + w_{21}*x_{31} + w_{22}*x_{32},\n",
       "        w_{11}*x_{22} + w_{12}*x_{23} + w_{21}*x_{32} + w_{22}*x_{33},\n",
       "        w_{11}*x_{23} + w_{12}*x_{24} + w_{21}*x_{33} + w_{22}*x_{34}],\n",
       "       [w_{11}*x_{31} + w_{12}*x_{32} + w_{21}*x_{41} + w_{22}*x_{42},\n",
       "        w_{11}*x_{32} + w_{12}*x_{33} + w_{21}*x_{42} + w_{22}*x_{43},\n",
       "        w_{11}*x_{33} + w_{12}*x_{34} + w_{21}*x_{43} + w_{22}*x_{44}]],\n",
       "      dtype=object)"
      ]
     },
     "execution_count": null,
     "metadata": {},
     "output_type": "execute_result"
    }
   ],
   "source": [
    "X_test = np.array([\n",
    "    [Symbol(r'x_{11}'), Symbol(r'x_{12}'), Symbol(r'x_{13}'), Symbol(r'x_{14}'),],\n",
    "    [Symbol(r'x_{21}'), Symbol(r'x_{22}'), Symbol(r'x_{23}'), Symbol(r'x_{24}'),],\n",
    "    [Symbol(r'x_{31}'), Symbol(r'x_{32}'), Symbol(r'x_{33}'), Symbol(r'x_{34}'),],\n",
    "    [Symbol(r'x_{41}'), Symbol(r'x_{42}'), Symbol(r'x_{43}'), Symbol(r'x_{44}'),],\n",
    "])\n",
    "\n",
    "\n",
    "f_test = np.array([\n",
    "    [Symbol(r'w_{11}'), Symbol(r'w_{12}'),],\n",
    "    [Symbol(r'w_{21}'), Symbol(r'w_{22}')],\n",
    "])\n",
    "result = convolve(X_test, f_test, 0, 1)\n",
    "result"
   ]
  },
  {
   "attachments": {},
   "cell_type": "markdown",
   "metadata": {},
   "source": [
    "Each element of the output array is an _expression_ in terms of the input symbols that defines how that element is calculated. We can pretty-print the first-one to see it better:"
   ]
  },
  {
   "cell_type": "code",
   "execution_count": null,
   "metadata": {},
   "outputs": [
    {
     "data": {
      "text/latex": [
       "$\\displaystyle w_{11} x_{11} + w_{12} x_{12} + w_{21} x_{21} + w_{22} x_{22}$"
      ],
      "text/plain": [
       "w_{11}*x_{11} + w_{12}*x_{12} + w_{21}*x_{21} + w_{22}*x_{22}"
      ]
     },
     "execution_count": null,
     "metadata": {},
     "output_type": "execute_result"
    }
   ],
   "source": [
    "result[0][0]"
   ]
  },
  {
   "attachments": {},
   "cell_type": "markdown",
   "metadata": {},
   "source": [
    "This is exactly the expression for the first element of the convolution output. If you overlaid the filter on the top-left corner of the input matrix and then multipled elements and summed the products, this is the expression you'd get. By running the convolution function against symbols, we've been able to get the expressions that represent the convolution output. "
   ]
  },
  {
   "attachments": {},
   "cell_type": "markdown",
   "metadata": {},
   "source": [
    "Before continuing, I want to make one improvement to the way we're creating the matrices of symbols. In the code above, I created each `Symbol` in the matrices manually. Obviously, a couple of nested `for`-loops would accomplish this with less typing. \n",
    "\n",
    "But beyond that, notice that each symbol name contains its row and column index. SymPy actually has support for the concept of an [Indexed Object](https://docs.sympy.org/latest/modules/tensor/indexed.html#module-sympy.tensor.indexed) that makes it a little easier to extract the indices later when doing reflection. So I created a helper function that creates arrays of indexed symbols:"
   ]
  },
  {
   "cell_type": "code",
   "execution_count": null,
   "metadata": {},
   "outputs": [],
   "source": [
    "def ndarray_of_indexed_base(\n",
    "    ib: IndexedBase, shape: Tuple[int, int], transform=lambda x: x\n",
    ") -> np.ndarray:\n",
    "    rows, cols = shape\n",
    "    data = [\n",
    "        [transform(ib[i, j]) for j in range(1, cols + 1)] for i in range(1, rows + 1)\n",
    "    ]\n",
    "    return np.array(data, dtype=object)"
   ]
  },
  {
   "attachments": {},
   "cell_type": "markdown",
   "metadata": {},
   "source": [
    "With this helper, I can create the equivalent of the `X_test` matrix above with just one line:"
   ]
  },
  {
   "cell_type": "code",
   "execution_count": null,
   "metadata": {},
   "outputs": [
    {
     "data": {
      "text/plain": [
       "array([[x[1, 1], x[1, 2], x[1, 3], x[1, 4]],\n",
       "       [x[2, 1], x[2, 2], x[2, 3], x[2, 4]],\n",
       "       [x[3, 1], x[3, 2], x[3, 3], x[3, 4]],\n",
       "       [x[4, 1], x[4, 2], x[4, 3], x[4, 4]]], dtype=object)"
      ]
     },
     "execution_count": null,
     "metadata": {},
     "output_type": "execute_result"
    }
   ],
   "source": [
    "X_test = ndarray_of_indexed_base(IndexedBase('x'), (4, 4))\n",
    "X_test"
   ]
  },
  {
   "attachments": {},
   "cell_type": "markdown",
   "metadata": {},
   "source": [
    "The representation looks a little different but it's essentially still a matrix of symbols. Let's create a little helper function to display matrices like this in a more readable format:"
   ]
  },
  {
   "cell_type": "code",
   "execution_count": null,
   "metadata": {},
   "outputs": [],
   "source": [
    "def matrix_to_markdown(matrix: np.ndarray) -> str:\n",
    "    h, w = matrix.shape\n",
    "    elements = (r'\\\\' + '\\n').join([' & '.join([latex(matrix[i][j]) for j in range(w)]) for i in range(h)])\n",
    "\n",
    "    markdown = '$$' r'\\begin{bmatrix}' + '\\n'+ elements + r'\\end{bmatrix}' + '\\n' '$$'\n",
    "    return markdown"
   ]
  },
  {
   "cell_type": "code",
   "execution_count": null,
   "metadata": {},
   "outputs": [
    {
     "data": {
      "text/markdown": [
       "$$\\begin{bmatrix}\n",
       "{x}_{1,1} & {x}_{1,2} & {x}_{1,3} & {x}_{1,4}\\\\\n",
       "{x}_{2,1} & {x}_{2,2} & {x}_{2,3} & {x}_{2,4}\\\\\n",
       "{x}_{3,1} & {x}_{3,2} & {x}_{3,3} & {x}_{3,4}\\\\\n",
       "{x}_{4,1} & {x}_{4,2} & {x}_{4,3} & {x}_{4,4}\\end{bmatrix}\n",
       "$$"
      ],
      "text/plain": [
       "<IPython.core.display.Markdown object>"
      ]
     },
     "execution_count": null,
     "metadata": {},
     "output_type": "execute_result"
    }
   ],
   "source": [
    "Markdown(matrix_to_markdown(X_test))"
   ]
  },
  {
   "attachments": {},
   "cell_type": "markdown",
   "metadata": {},
   "source": [
    "The reason we want to use Indexed Objects for our symbols is that it's easier to extract the indices and the name of the \"base\" (the thing being indexed):"
   ]
  },
  {
   "cell_type": "code",
   "execution_count": null,
   "metadata": {},
   "outputs": [],
   "source": [
    "# Test accessing the indices (note that we use zero-based indices to access \n",
    "# the array but the conceptual matrix indices are 1-based.)\n",
    "test_eq(X_test[0][0].indices, (1, 1))\n",
    "\n",
    "# Test getting the name of the base. \n",
    "test_eq(X_test[0][0].base.name, 'x')"
   ]
  },
  {
   "attachments": {},
   "cell_type": "markdown",
   "metadata": {},
   "source": [
    "The ability to easily pull out the base name and indices of a symbol will come in handy later when we analyze expressions. "
   ]
  },
  {
   "attachments": {},
   "cell_type": "markdown",
   "metadata": {},
   "source": [
    "# Example from a Convolutional Neural Network\n",
    "\n",
    "Let's assume we've got a convolutional layer, somewhere in the middle of a CNN. To make things simple, I imagined the second layer of a CNN ($\\mathcal{l} = 2$) and that I'd be dealing with:\n",
    "* the activations from the previous layer, $a^{[1]}$\n",
    "* the weights for the convolution kernel in the current layer, $W^{[2]}$\n",
    "* the bias for the current layer, $b^{[2]}$\n",
    "* the output from the convolution operation and adding the bias, $z^{[2]}$\n",
    "\n",
    "For simplicity, I'm assuming $a^{[1]}$ has just one channel, there's just a single $W^{[2]}$ filter, and we're looking at just a single training example.\n",
    "\n",
    "In the forward pass, $z^{[2]}$ would go through an activation function to produce $a^{[2]}$, which would then propagate through subsequent layers, and ultimately produce an output, $\\hat{y}$. \n",
    "\n",
    "In fact, the forward pass calculation of $z^{[2]}$ for our layer of interest can now be represented with the following few lines of code:"
   ]
  },
  {
   "cell_type": "code",
   "execution_count": null,
   "metadata": {},
   "outputs": [],
   "source": [
    "a1 = ndarray_of_indexed_base(IndexedBase(r'a^{[1]}'), (6, 6))\n",
    "W2 = ndarray_of_indexed_base(IndexedBase(r'W^{[2]}'), (3, 3))\n",
    "b2 = symbols(r'b^{[2]}')\n",
    "z2 = convolve(a1, W2, 0, 1) + b2"
   ]
  },
  {
   "attachments": {},
   "cell_type": "markdown",
   "metadata": {},
   "source": [
    "We can examine the elements of `z2` to see that they represent the expressions we'd expect. E.g., the first element is:"
   ]
  },
  {
   "cell_type": "code",
   "execution_count": null,
   "metadata": {},
   "outputs": [
    {
     "data": {
      "text/latex": [
       "$\\displaystyle b^{[2]} + {W^{[2]}}_{1,1} {a^{[1]}}_{1,1} + {W^{[2]}}_{1,2} {a^{[1]}}_{1,2} + {W^{[2]}}_{1,3} {a^{[1]}}_{1,3} + {W^{[2]}}_{2,1} {a^{[1]}}_{2,1} + {W^{[2]}}_{2,2} {a^{[1]}}_{2,2} + {W^{[2]}}_{2,3} {a^{[1]}}_{2,3} + {W^{[2]}}_{3,1} {a^{[1]}}_{3,1} + {W^{[2]}}_{3,2} {a^{[1]}}_{3,2} + {W^{[2]}}_{3,3} {a^{[1]}}_{3,3}$"
      ],
      "text/plain": [
       "b^{[2]} + W^{[2]}[1, 1]*a^{[1]}[1, 1] + W^{[2]}[1, 2]*a^{[1]}[1, 2] + W^{[2]}[1, 3]*a^{[1]}[1, 3] + W^{[2]}[2, 1]*a^{[1]}[2, 1] + W^{[2]}[2, 2]*a^{[1]}[2, 2] + W^{[2]}[2, 3]*a^{[1]}[2, 3] + W^{[2]}[3, 1]*a^{[1]}[3, 1] + W^{[2]}[3, 2]*a^{[1]}[3, 2] + W^{[2]}[3, 3]*a^{[1]}[3, 3]"
      ]
     },
     "execution_count": null,
     "metadata": {},
     "output_type": "execute_result"
    }
   ],
   "source": [
    "z2[0][0]"
   ]
  },
  {
   "attachments": {},
   "cell_type": "markdown",
   "metadata": {},
   "source": [
    "This is exactly the sum of the weights multiplied by the corresponding elements in the left corner of the input matrix, plus the bias term. Similarly, the next element of `z2` contains the expression for the next convolution output (notice the $a^{[1]}$ column indices are shifted over by one):"
   ]
  },
  {
   "cell_type": "code",
   "execution_count": null,
   "metadata": {},
   "outputs": [
    {
     "data": {
      "text/latex": [
       "$\\displaystyle b^{[2]} + {W^{[2]}}_{1,1} {a^{[1]}}_{1,2} + {W^{[2]}}_{1,2} {a^{[1]}}_{1,3} + {W^{[2]}}_{1,3} {a^{[1]}}_{1,4} + {W^{[2]}}_{2,1} {a^{[1]}}_{2,2} + {W^{[2]}}_{2,2} {a^{[1]}}_{2,3} + {W^{[2]}}_{2,3} {a^{[1]}}_{2,4} + {W^{[2]}}_{3,1} {a^{[1]}}_{3,2} + {W^{[2]}}_{3,2} {a^{[1]}}_{3,3} + {W^{[2]}}_{3,3} {a^{[1]}}_{3,4}$"
      ],
      "text/plain": [
       "b^{[2]} + W^{[2]}[1, 1]*a^{[1]}[1, 2] + W^{[2]}[1, 2]*a^{[1]}[1, 3] + W^{[2]}[1, 3]*a^{[1]}[1, 4] + W^{[2]}[2, 1]*a^{[1]}[2, 2] + W^{[2]}[2, 2]*a^{[1]}[2, 3] + W^{[2]}[2, 3]*a^{[1]}[2, 4] + W^{[2]}[3, 1]*a^{[1]}[3, 2] + W^{[2]}[3, 2]*a^{[1]}[3, 3] + W^{[2]}[3, 3]*a^{[1]}[3, 4]"
      ]
     },
     "execution_count": null,
     "metadata": {},
     "output_type": "execute_result"
    }
   ],
   "source": [
    "z2[0][1]"
   ]
  },
  {
   "attachments": {},
   "cell_type": "markdown",
   "metadata": {},
   "source": [
    "If we wanted to visualize this expression, one way to do it would be to draw the three matrices, $a^{[1]}$, $W^{[2]}$, and $z^{[2]}$, and highlight the elements of $a^{[1]}$ and $W^{[2]}$ that are multiplied together to produce a given element of $z^{[2]}$. The code below uses [Manim](https://www.manim.community/) to render this visualization and highlights the cells corresponding to the above expression. Ignore most of the code - it's just drawing boilerplate. In the cell below, I'll highlight the parts of interest."
   ]
  },
  {
   "cell_type": "code",
   "execution_count": null,
   "metadata": {},
   "outputs": [
    {
     "data": {
      "image/png": "[encoded data removed]",
      "text/plain": [
       "<IPython.core.display.Image object>"
      ]
     },
     "metadata": {},
     "output_type": "display_data"
    }
   ],
   "source": [
    "%%manim -v WARNING --progress_bar None -ql -s --disable_caching HardCodedHighlights\n",
    "\n",
    "class HardCodedHighlights(Scene):\n",
    "    def construct(self):\n",
    "        # Construct matrices and do the convolution\n",
    "        a1 = ndarray_of_indexed_base(IndexedBase(r'a^{[1]}'), (6, 6))\n",
    "        W2 = ndarray_of_indexed_base(IndexedBase(r'W^{[2]}'), (3, 3))\n",
    "        b2 = symbols(r'b^{[2]}')\n",
    "        z2 = convolve(a1, W2, 0, 1) + b2\n",
    "\n",
    "        # Turn latex() into a ufunc\n",
    "        latex_ufunc = np.frompyfunc(latex, 1, 1)\n",
    "\n",
    "\n",
    "        # a1 matrix\n",
    "        a1_view = MathTable(latex_ufunc(a1), include_outer_lines=True)\n",
    "        a1_view.width = 4\n",
    "\n",
    "        a1_h, a1_w = a1.shape\n",
    "\n",
    "        cell_height = a1_view.height / a1_h\n",
    "        cell_width = a1_view.width / a1_w\n",
    "\n",
    "        # conv symbol\n",
    "        conv_sym = Text('*')\n",
    "\n",
    "        # W2 matrix\n",
    "        W2_view = MathTable(latex_ufunc(W2), include_outer_lines=True)\n",
    "        W2_h, W2_w = W2.shape\n",
    "        W2_view.height = W2_h * cell_height\n",
    "        W2_view.width = W2_w * cell_width\n",
    "\n",
    "        # plus symbol\n",
    "        plus_sym = Text('+')\n",
    "\n",
    "        # bias text\n",
    "        b2_view = MathTex(r'b^{[2]}')\n",
    "\n",
    "        # equals symbol\n",
    "        eq_sym = Text('=')\n",
    "\n",
    "        # z2 matrix\n",
    "        z2_view = MathTable(\n",
    "            latex_ufunc(ndarray_of_indexed_base(IndexedBase(r'z^{[2]}'), z2.shape)),\n",
    "            include_outer_lines=True,\n",
    "        )\n",
    "        z2_h, z2_w = z2.shape\n",
    "        z2_view.height = z2_h * cell_height\n",
    "        z2_view.width = z2_w * cell_width\n",
    "\n",
    "        items = [a1_view, conv_sym, W2_view, plus_sym, b2_view, eq_sym, z2_view]\n",
    "        g = Group(*items).arrange_in_grid(rows=1, cols=len(items), buff=0.5)\n",
    "        self.add(g)\n",
    "\n",
    "        # Labels\n",
    "        a1_label = MathTex(r'a^{[1]}')\n",
    "        a1_label.next_to(a1_view, direction=DOWN, buff=0.5)\n",
    "        self.add(a1_label)\n",
    "\n",
    "        W2_label = MathTex(r'W^{[2]}')\n",
    "        W2_label.next_to(W2_view, direction=DOWN)\n",
    "        W2_label.align_to(a1_label, DOWN)\n",
    "        self.add(W2_label)\n",
    "\n",
    "        z2_label = MathTex(r'z^{[2]}')\n",
    "        z2_label.next_to(z2_view, direction=DOWN)\n",
    "        z2_label.align_to(a1_label, DOWN)\n",
    "        self.add(z2_label)\n",
    "\n",
    "        # Map ndarrays to views\n",
    "        array_to_view_map = {\n",
    "            r'a^{[1]}': a1_view,\n",
    "            r'W^{[2]}': W2_view,\n",
    "            r'z^{[2]}': z2_view,\n",
    "        }\n",
    "\n",
    "        # Map of cells to highlight\n",
    "        highlights_map = {\n",
    "            r'W^{[2]}': [(1, 1), (1, 2), (1, 3), (2, 1), (2, 2), (2, 3), (3, 1), (3, 2), (3, 3)], \n",
    "            r'a^{[1]}': [(1, 2), (1, 3), (1, 4), (2, 2), (2, 3), (2, 4), (3, 2), (3, 3), (3, 4)],\n",
    "        }\n",
    "\n",
    "        # Highlight cells in the highlight map\n",
    "        for matrix, cell_list in highlights_map.items():\n",
    "            view = array_to_view_map[matrix]\n",
    "            for cell in cell_list:\n",
    "                highlight = view.get_cell(cell, color=YELLOW).scale(0.7)\n",
    "                self.add(highlight)\n",
    "\n",
    "        # Highlight the output cell\n",
    "        self.add(z2_view.get_cell((1, 2), color=YELLOW).scale(0.7))"
   ]
  },
  {
   "attachments": {},
   "cell_type": "markdown",
   "metadata": {},
   "source": [
    "In the code above, we hardcoded the cells to highlight:\n",
    "\n",
    "```python\n",
    "        # Map of cells to highlight\n",
    "        highlights_map = {\n",
    "            r'W^{[2]}': [(1, 1), (1, 2), (1, 3), (2, 1), (2, 2), (2, 3), (3, 1), (3, 2), (3, 3)], \n",
    "            r'a^{[1]}': [(1, 2), (1, 3), (1, 4), (2, 2), (2, 3), (2, 4), (3, 2), (3, 3), (3, 4)],\n",
    "        }\n",
    "```\n",
    "\n",
    "It would be better if we could generate this highlights map directly from an expression like:\n",
    "\n",
    "$$\n",
    "{W^{[2]}}_{1,1} {a^{[1]}}_{1,2} + {W^{[2]}}_{1,2} {a^{[1]}}_{1,3} + {W^{[2]}}_{1,3} {a^{[1]}}_{1,4} + {W^{[2]}}_{2,1} {a^{[1]}}_{2,2} + {W^{[2]}}_{2,2} {a^{[1]}}_{2,3} + {W^{[2]}}_{2,3} {a^{[1]}}_{2,4} + {W^{[2]}}_{3,1} {a^{[1]}}_{3,2} + {W^{[2]}}_{3,2} {a^{[1]}}_{3,3} + {W^{[2]}}_{3,3} {a^{[1]}}_{3,4}\n",
    "$$\n",
    "\n",
    "This turns out to be pretty easy to do. The key to doing this is that SymPy represents expressions in easily navigable tree structures. Details are in the [documentation](https://docs.sympy.org/latest/tutorials/intro-tutorial/manipulation.html) but the basic idea is that every expression object has a `func` attribute and an `args` attribute that (roughly) correspond to the operation and operands respectively. A few examples:"
   ]
  },
  {
   "cell_type": "code",
   "execution_count": null,
   "metadata": {},
   "outputs": [],
   "source": [
    "x = Symbol('x')\n",
    "expr = 2 + x\n",
    "\n",
    "# The expressions's `func` is Add\n",
    "test_eq(expr.func, Add)\n",
    "\n",
    "# It's `args` are 2 and x\n",
    "test_eq(expr.args, (2, x))"
   ]
  },
  {
   "attachments": {},
   "cell_type": "markdown",
   "metadata": {},
   "source": [
    "Using `func` and `args` to reflect over expressions, we can write a function that takes an expression and returns a dictionary where the keys are matrix names, and the values are lists of indices to highlight. "
   ]
  },
  {
   "cell_type": "code",
   "execution_count": null,
   "metadata": {},
   "outputs": [],
   "source": [
    "def build_highlights_map(expr: Expr) -> Dict[str, List[Tuple]]:\n",
    "    # The expression needs to be either a sum of products or a single product\n",
    "    assert expr.func == Add or expr.func == Mul\n",
    "\n",
    "    # If it's an Add, assert all args are Muls\n",
    "    if expr.func == Add:\n",
    "        assert all(arg.func == Mul for arg in expr.args)\n",
    "\n",
    "    # We want the list of multiplications. This is either a list consisting\n",
    "    # of just the expression itself if it's a Mul or its arguments if it's\n",
    "    # an Add.\n",
    "    muls = [expr] if expr.func == Mul else expr.args\n",
    "\n",
    "    results = {}\n",
    "    for expr in muls:\n",
    "        # Assert all the args are Indexed\n",
    "        assert all(arg.func == Indexed for arg in expr.args)\n",
    "\n",
    "        for indexed in expr.args:\n",
    "            if indexed.base.name not in results:\n",
    "                results[indexed.base.name] = []\n",
    "            results[indexed.base.name].append(indexed.indices)    \n",
    "    return results"
   ]
  },
  {
   "attachments": {},
   "cell_type": "markdown",
   "metadata": {},
   "source": [
    "This function makes a lot of assumptions that it's dealing with expressions that are just sums of products of `Indexed` objects, but it suffices for what we need. We can test it with one of our expressions in the `z2` array:"
   ]
  },
  {
   "cell_type": "code",
   "execution_count": null,
   "metadata": {},
   "outputs": [
    {
     "data": {
      "text/plain": [
       "{'W^{[2]}': [(1, 1),\n",
       "  (1, 2),\n",
       "  (1, 3),\n",
       "  (2, 1),\n",
       "  (2, 2),\n",
       "  (2, 3),\n",
       "  (3, 1),\n",
       "  (3, 2),\n",
       "  (3, 3)],\n",
       " 'a^{[1]}': [(1, 2),\n",
       "  (1, 3),\n",
       "  (1, 4),\n",
       "  (2, 2),\n",
       "  (2, 3),\n",
       "  (2, 4),\n",
       "  (3, 2),\n",
       "  (3, 3),\n",
       "  (3, 4)]}"
      ]
     },
     "execution_count": null,
     "metadata": {},
     "output_type": "execute_result"
    }
   ],
   "source": [
    "build_highlights_map(z2[0][1]-b2) # Subtract off b2 because we aren't interested in the bias term for now."
   ]
  },
  {
   "attachments": {},
   "cell_type": "markdown",
   "metadata": {},
   "source": [
    "Now, we can incorporate that into a Manim scene and add some animation to go through all of the expressions in `z2`."
   ]
  },
  {
   "cell_type": "code",
   "execution_count": null,
   "metadata": {},
   "outputs": [],
   "source": [
    "%%manim -v WARNING --progress_bar None -ql --disable_caching ConvolutionForward\n",
    "\n",
    "class ConvolutionForward(Scene):\n",
    "    def construct(self):\n",
    "        # Construct matrices and do the convolution\n",
    "        a1 = ndarray_of_indexed_base(IndexedBase(r'a^{[1]}'), (6, 6))\n",
    "        W2 = ndarray_of_indexed_base(IndexedBase(r'W^{[2]}'), (3, 3))\n",
    "        b2 = symbols(r'b^{[2]}')\n",
    "        z2 = convolve(a1, W2, 0, 1) + b2\n",
    "\n",
    "        # Turn latex() into a ufunc\n",
    "        latex_ufunc = np.frompyfunc(latex, 1, 1)\n",
    "\n",
    "\n",
    "        # a1 matrix\n",
    "        a1_view = MathTable(latex_ufunc(a1), include_outer_lines=True)\n",
    "        a1_view.width = 4\n",
    "\n",
    "        a1_h, a1_w = a1.shape\n",
    "\n",
    "        cell_height = a1_view.height / a1_h\n",
    "        cell_width = a1_view.width / a1_w\n",
    "\n",
    "        # conv symbol\n",
    "        conv_sym = Text('*')\n",
    "\n",
    "        # W2 matrix\n",
    "        W2_view = MathTable(latex_ufunc(W2), include_outer_lines=True)\n",
    "        W2_h, W2_w = W2.shape\n",
    "        W2_view.height = W2_h * cell_height\n",
    "        W2_view.width = W2_w * cell_width\n",
    "\n",
    "        # plus symbol\n",
    "        plus_sym = Text('+')\n",
    "\n",
    "        # bias text\n",
    "        b2_view = MathTex(r'b^{[2]}')\n",
    "\n",
    "        # equals symbol\n",
    "        eq_sym = Text('=')\n",
    "\n",
    "        # z2 matrix\n",
    "        z2_view = MathTable(\n",
    "            latex_ufunc(ndarray_of_indexed_base(IndexedBase(r'z^{[2]}'), z2.shape)),\n",
    "            include_outer_lines=True,\n",
    "        )\n",
    "        z2_h, z2_w = z2.shape\n",
    "        z2_view.height = z2_h * cell_height\n",
    "        z2_view.width = z2_w * cell_width\n",
    "\n",
    "        items = [a1_view, conv_sym, W2_view, plus_sym, b2_view, eq_sym, z2_view]\n",
    "        g = Group(*items).arrange_in_grid(rows=1, cols=len(items), buff=0.5)\n",
    "        self.add(g)\n",
    "\n",
    "        # Labels\n",
    "        a1_label = MathTex(r'a^{[1]}')\n",
    "        a1_label.next_to(a1_view, direction=DOWN, buff=0.5)\n",
    "        self.add(a1_label)\n",
    "\n",
    "        W2_label = MathTex(r'W^{[2]}')\n",
    "        W2_label.next_to(W2_view, direction=DOWN)\n",
    "        W2_label.align_to(a1_label, DOWN)\n",
    "        self.add(W2_label)\n",
    "\n",
    "        z2_label = MathTex(r'z^{[2]}')\n",
    "        z2_label.next_to(z2_view, direction=DOWN)\n",
    "        z2_label.align_to(a1_label, DOWN)\n",
    "        self.add(z2_label)\n",
    "\n",
    "        # Map ndarrays to views\n",
    "        array_to_view_map = {\n",
    "            r'a^{[1]}': a1_view,\n",
    "            r'W^{[2]}': W2_view,\n",
    "            r'z^{[2]}': z2_view,\n",
    "        }\n",
    "\n",
    "        # Some config knobs for the animations\n",
    "        FADE_IN_TIME = 0.5\n",
    "        FADE_OUT_TIME = 0.3\n",
    "        WAIT_TIME = 0.5\n",
    "\n",
    "        # Build highlight map for all elements of z2\n",
    "        build_highlights_map_ufunc = np.frompyfunc(build_highlights_map, 1, 1)\n",
    "        highlights_map = build_highlights_map_ufunc(z2-b2)\n",
    "\n",
    "        # Go through each highlights map and do the animations\n",
    "        h, w = z2.shape\n",
    "        for i in range(h):\n",
    "            for j in range(w):\n",
    "                highlight = z2_view.get_cell((i + 1, j + 1), color=YELLOW).scale(\n",
    "                    0.7\n",
    "                )\n",
    "                anims_in = [FadeIn(highlight, run_time=FADE_IN_TIME)]\n",
    "                anims_out = [FadeOut(highlight, run_time=FADE_OUT_TIME)]\n",
    "\n",
    "                for matrix, cell_list in highlights_map[i][j].items():\n",
    "                    view = array_to_view_map[matrix]\n",
    "                    for cell in cell_list:\n",
    "                        highlight = view.get_cell(cell, color=YELLOW).scale(0.7)\n",
    "\n",
    "                        anims_in.append(FadeIn(highlight, run_time=FADE_IN_TIME))\n",
    "                        anims_out.append(FadeOut(highlight, run_time=FADE_IN_TIME))\n",
    "\n",
    "\n",
    "                self.play(*anims_in)\n",
    "                self.wait(WAIT_TIME)\n",
    "                self.play(*anims_out)\n",
    "\n"
   ]
  },
  {
   "attachments": {},
   "cell_type": "markdown",
   "metadata": {},
   "source": [
    "This produces a video. To keep the notebook small, I've not embedded it directly, but the YouTube version below shows the output. This is a working animation of a convolution, generated directly from the expressions. "
   ]
  },
  {
   "cell_type": "code",
   "execution_count": null,
   "metadata": {},
   "outputs": [
    {
     "data": {
      "image/jpeg": "[encoded data removed]",
      "text/html": [
       "\n",
       "        <iframe\n",
       "            width=\"400\"\n",
       "            height=\"300\"\n",
       "            src=\"https://www.youtube.com/embed/DrYgzmsFaNM?loop=True&autoplay=1\"\n",
       "            frameborder=\"0\"\n",
       "            allowfullscreen\n",
       "            allow=\"autoplay\"\n",
       "        ></iframe>\n",
       "        "
      ],
      "text/plain": [
       "<IPython.lib.display.YouTubeVideo>"
      ]
     },
     "execution_count": null,
     "metadata": {},
     "output_type": "execute_result"
    }
   ],
   "source": [
    "YouTubeVideo('DrYgzmsFaNM', allow_autoplay=True, loop=True)"
   ]
  },
  {
   "attachments": {},
   "cell_type": "markdown",
   "metadata": {},
   "source": [
    "# Backprop through Convolutions\n",
    "\n",
    "The calculation of $z^{[2]}$ we've looked at so far is part of the forward pass of a CNN. As I mentioned before, $z^{[2]}$ will typically go through a non-linear activation function to produce $a^{[2]}$, which would propagate all the way to the end of the network, producing a final output, $\\hat{y}$. \n",
    "\n",
    "To start the backward pass, we'd evaluate the loss function ($\\mathcal{L}(y, \\hat{y})$) and use the chain rule to propagate the loss backwards through the layers. My CNN class didn't derive the backprop equations for convolutional layers - my attempting to do that on my own led to this whole investigation. It turns out that the approach of using symbols in the convolution matrices makes it really easy to not only derive the backprop equations but also visualize them. \n",
    "\n",
    "As a starting point, I'll assume the backprop process has given us $\\frac{\\partial \\mathcal{L}}{\\partial z^{[2]}}$ and now need to compute $\\frac{\\partial \\mathcal{L}}{\\partial W^{[2]}}$, $\\frac{\\partial \\mathcal{L}}{\\partial b^{[2]}}$, and $\\frac{\\partial \\mathcal{L}}{\\partial a^{[1]}}$.\n",
    "\n",
    "Let's start with the simplest one, $\\frac{\\partial \\mathcal{L}}{\\partial b^{[2]}}$: the gradient of the loss with respect to the bias term, $b^{[2]}$. "
   ]
  },
  {
   "attachments": {},
   "cell_type": "markdown",
   "metadata": {},
   "source": [
    "## Deriving $\\frac{\\partial \\mathcal{L}}{\\partial b^{[2]}}$\n",
    "\n",
    "We calculated $z^{[2]}$ as follows:\n",
    "\n",
    "$$\n",
    "z^{[2]} = a^{[1]} * W^{[2]} + b^{[2]}\n",
    "$$\n",
    "\n",
    "$b^{[2]}$ is a scalar that we add to each element of the matrix, $a^{[1]} * W^{[2]}$. For the purpose of this derivation, it's helpful to think of $b^{[2]}$ as a matrix with the same dimensions as $a^{[1]} * W^{[2]}$ in which the value of every element is the scalar value of $b^{[2]}$:\n",
    "\n",
    "$$\n",
    "\\begin{bmatrix}\n",
    "b^{[2]} & b^{[2]} & b^{[2]} & b^{[2]}\\\\\n",
    "b^{[2]} & b^{[2]} & b^{[2]} & b^{[2]}\\\\\n",
    "b^{[2]} & b^{[2]} & b^{[2]} & b^{[2]}\\\\\n",
    "b^{[2]} & b^{[2]} & b^{[2]} & b^{[2]}\\\\\n",
    "\\end{bmatrix}\n",
    "$$\n",
    "\n",
    "To distinguish the scalar $b^{[2]}$ clearly from the matrix version, we'll call the matrix version $\\mathbf{B^{[2]}}$:\n",
    "\n",
    "$$\n",
    "\\mathbf{B^{[2]}} = \n",
    "\\def\\arraystretch{1.5}\n",
    "\\begin{bmatrix}\n",
    "\\mathbf{B^{[2]}_{11}} & \\mathbf{B^{[2]}_{12}} & \\mathbf{B^{[2]}_{13}} & \\mathbf{B^{[2]}_{14}}\\\\\n",
    "\\mathbf{B^{[2]}_{21}} & \\mathbf{B^{[2]}_{22}} & \\mathbf{B^{[2]}_{23}} & \\mathbf{B^{[2]}_{24}}\\\\\n",
    "\\mathbf{B^{[2]}_{31}} & \\mathbf{B^{[2]}_{32}} & \\mathbf{B^{[2]}_{33}} & \\mathbf{B^{[2]}_{34}}\\\\\n",
    "\\mathbf{B^{[2]}_{41}} & \\mathbf{B^{[2]}_{42}} & \\mathbf{B^{[2]}_{43}} & \\mathbf{B^{[2]}_{44}}\\\\\n",
    "\\end{bmatrix}\n",
    "=\n",
    "\\begin{bmatrix}\n",
    "b^{[2]} & b^{[2]} & b^{[2]} & b^{[2]}\\\\\n",
    "b^{[2]} & b^{[2]} & b^{[2]} & b^{[2]}\\\\\n",
    "b^{[2]} & b^{[2]} & b^{[2]} & b^{[2]}\\\\\n",
    "b^{[2]} & b^{[2]} & b^{[2]} & b^{[2]}\\\\\n",
    "\\end{bmatrix}\n",
    "$$\n",
    "\n",
    "and \n",
    "\n",
    "$$\n",
    "z^{[2]} = a^{[1]} * W^{[2]} + \\mathbf{B^{[2]}}\n",
    "$$\n",
    "Now the plus sign in the formular above is just plain matrix (element-wise) addition.\n",
    "\n",
    ">Note: The transformation from $b^{[2]}$ to $\\mathbf{B^{[2]}}$ I've written out here actually happens implicitly in the code we wrote earlier (`z2 = convolve(a1, W2, 0, 1) + b2`) because of [NumPy broadcasting](https://numpy.org/doc/stable/user/basics.broadcasting.html).\n",
    "\n",
    "We can then calculate the derivative of $\\mathcal{L}$ with respect to this $\\mathbf{B^{[2]}}$ matrix. Remember, we've got $\\frac{\\partial \\mathcal{L}}{\\partial z^{[2]}}$ and now we want $\\frac{\\partial \\mathcal{L}}{\\partial \\mathbf{B^{[2]}}}$. \n",
    "\n",
    "We can do this by applying the chain rule, element-wise. E.g. $\\frac{\\partial \\mathcal{L}}{\\partial \\mathbf{B^{[2]_{11}}}}$ would be:\n",
    "\n",
    "$$\n",
    "\\frac{\\partial \\mathcal{L}}{\\partial \\mathbf{B^{[2]_{11}}}} = \\frac{\\partial \\mathcal{L}}{\\partial z^{[2]_{11}}}\\frac{\\partial z^{[2]_{11}}}{\\partial \\mathbf{B^{[2]_{11}}}} + \\frac{\\partial \\mathcal{L}}{\\partial z^{[2]_{12}}}\\frac{\\partial z^{[2]_{12}}}{\\partial \\mathbf{B^{[2]_{11}}}} + \\cdots + \\frac{\\partial \\mathcal{L}}{\\partial z^{[2]_{44}}}\\frac{\\partial z^{[2]_{44}}}{\\partial \\mathbf{B^{[2]_{11}}}} \n",
    "$$\n",
    "\n",
    "We could take this further and simply by hand to work out what this is really saying, but we've got a whole symbolic engine at our disposal so let's use that instead. \n"
   ]
  },
  {
   "attachments": {},
   "cell_type": "markdown",
   "metadata": {},
   "source": [
    "First, let's write a general function to do the element-wise chain rule operation described above. Assuming `A`, and `B` are matrices of symbols and `df_dA` is also a matrix of symbols representing $\\frac{\\partial f}{\\partial A}$, this function computes $\\frac{\\partial f}{\\partial B}$ by applying the chain rule element-wise:\n",
    "\n",
    "For every $i, j$ in $B$, the function calculates \n",
    "\n",
    "$$\n",
    "\\frac{\\partial f}{\\partial B_{i, j}} = \\sum_{k, l} \\frac{\\partial f}{\\partial A_{k, l}}\\frac{\\partial A_{k, l}}{\\partial B_{i, j}}\n",
    "$$\n",
    "\n",
    "Most of the function is just `for`-loops and summing, but the interesting part is that it uses [SymPy's calculus abilities](https://docs.sympy.org/latest/tutorials/intro-tutorial/calculus.html) to compute $\\frac{\\partial A_{k, l}}{\\partial B_{i, j}}$ symbolically in the line:\n",
    "\n",
    "```python\n",
    "df_dA[ak][al] * A[ak][al].diff(B[bi][bj])\n",
    "```"
   ]
  },
  {
   "cell_type": "code",
   "execution_count": null,
   "metadata": {},
   "outputs": [],
   "source": [
    "def matrix_matrix_chain_rule(df_dA: np.ndarray, A: np.ndarray, B: np.ndarray):\n",
    "    \"\"\"\n",
    "    Say f is a function, A & B are matrices represented by ndarrays\n",
    "    Given an matrix of the elements of df/dA, A, and B, this function\n",
    "    computes the elements of df_dB by applying the chain rule element-\n",
    "    wise.\n",
    "    \"\"\"\n",
    "    Ah, Aw = A.shape\n",
    "    Bh, Bw = B.shape\n",
    "\n",
    "    output = np.zeros(B.shape, dtype=B.dtype)\n",
    "\n",
    "    for bi in range(Bh):\n",
    "        for bj in range(Bw):\n",
    "            output[bi][bj] = sum(\n",
    "                [\n",
    "                    df_dA[ak][al] * A[ak][al].diff(B[bi][bj])\n",
    "                    for ak in range(Ah)\n",
    "                    for al in range(Aw)\n",
    "                ]\n",
    "            )\n",
    "\n",
    "    return output\n"
   ]
  },
  {
   "attachments": {},
   "cell_type": "markdown",
   "metadata": {},
   "source": [
    "We can now use this to calculate $\\frac{\\partial \\mathcal{L}}{\\partial \\mathbf{B^{[2]}}}$:"
   ]
  },
  {
   "cell_type": "code",
   "execution_count": null,
   "metadata": {},
   "outputs": [
    {
     "data": {
      "text/markdown": [
       "$$\\begin{bmatrix}\n",
       "\\frac{\\partial}{\\partial {z^{[2]}}_{1,1}} \\mathcal{L}{\\left(y,\\hat{y} \\right)} & \\frac{\\partial}{\\partial {z^{[2]}}_{1,2}} \\mathcal{L}{\\left(y,\\hat{y} \\right)} & \\frac{\\partial}{\\partial {z^{[2]}}_{1,3}} \\mathcal{L}{\\left(y,\\hat{y} \\right)} & \\frac{\\partial}{\\partial {z^{[2]}}_{1,4}} \\mathcal{L}{\\left(y,\\hat{y} \\right)}\\\\\n",
       "\\frac{\\partial}{\\partial {z^{[2]}}_{2,1}} \\mathcal{L}{\\left(y,\\hat{y} \\right)} & \\frac{\\partial}{\\partial {z^{[2]}}_{2,2}} \\mathcal{L}{\\left(y,\\hat{y} \\right)} & \\frac{\\partial}{\\partial {z^{[2]}}_{2,3}} \\mathcal{L}{\\left(y,\\hat{y} \\right)} & \\frac{\\partial}{\\partial {z^{[2]}}_{2,4}} \\mathcal{L}{\\left(y,\\hat{y} \\right)}\\\\\n",
       "\\frac{\\partial}{\\partial {z^{[2]}}_{3,1}} \\mathcal{L}{\\left(y,\\hat{y} \\right)} & \\frac{\\partial}{\\partial {z^{[2]}}_{3,2}} \\mathcal{L}{\\left(y,\\hat{y} \\right)} & \\frac{\\partial}{\\partial {z^{[2]}}_{3,3}} \\mathcal{L}{\\left(y,\\hat{y} \\right)} & \\frac{\\partial}{\\partial {z^{[2]}}_{3,4}} \\mathcal{L}{\\left(y,\\hat{y} \\right)}\\\\\n",
       "\\frac{\\partial}{\\partial {z^{[2]}}_{4,1}} \\mathcal{L}{\\left(y,\\hat{y} \\right)} & \\frac{\\partial}{\\partial {z^{[2]}}_{4,2}} \\mathcal{L}{\\left(y,\\hat{y} \\right)} & \\frac{\\partial}{\\partial {z^{[2]}}_{4,3}} \\mathcal{L}{\\left(y,\\hat{y} \\right)} & \\frac{\\partial}{\\partial {z^{[2]}}_{4,4}} \\mathcal{L}{\\left(y,\\hat{y} \\right)}\\end{bmatrix}\n",
       "$$"
      ],
      "text/plain": [
       "<IPython.core.display.Markdown object>"
      ]
     },
     "execution_count": null,
     "metadata": {},
     "output_type": "execute_result"
    }
   ],
   "source": [
    "# Create a1, W2, and convolve them:\n",
    "a1 = ndarray_of_indexed_base(IndexedBase(r'a^{[1]}'), (6, 6))\n",
    "W2 = ndarray_of_indexed_base(IndexedBase(r'W^{[2]}'), (3, 3))\n",
    "conv_result = convolve(a1, W2, 0, 1)\n",
    "\n",
    "# Set up B2 with the same shape as conv_result\n",
    "B2 = ndarray_of_indexed_base(IndexedBase(r'B^{[2]}'), conv_result.shape)\n",
    "\n",
    "# Calculate z2 in terms of the conv_result and B2.\n",
    "z2 = conv_result + B2\n",
    "\n",
    "# Set up the loss function symbolically.\n",
    "y = symbols('y')\n",
    "yhat = symbols(r'\\hat{y}')\n",
    "L = Function(r'\\mathcal{L}')(y, yhat)\n",
    "\n",
    "# Build dL/dz2\n",
    "dz2 = ndarray_of_indexed_base(\n",
    "    IndexedBase(r'z^{[2]}'), z2.shape, transform=lambda x: Derivative(L, x)\n",
    ")\n",
    "\n",
    "dB2 = matrix_matrix_chain_rule(dz2, z2, B2)\n",
    "\n",
    "Markdown(matrix_to_markdown(dB2))"
   ]
  },
  {
   "attachments": {},
   "cell_type": "markdown",
   "metadata": {},
   "source": [
    "Each element of this is the same as the corresponding element of $\\frac{\\partial \\mathcal{L}}{\\partial z^{[2]}}$. We can confirm that \n",
    "\n",
    "$$\n",
    "\\frac{\\partial \\mathcal{L}}{\\partial \\mathbf{B^{[2]}}} = \\frac{\\partial \\mathcal{L}}{\\partial z^{[2]}}\n",
    "$$\n",
    "\n",
    "in code: "
   ]
  },
  {
   "cell_type": "code",
   "execution_count": null,
   "metadata": {},
   "outputs": [],
   "source": [
    "test_eq(dB2, dz2)"
   ]
  }
 ],
 "metadata": {
  "kernelspec": {
   "display_name": "python3",
   "language": "python",
   "name": "python3"
  }
 },
 "nbformat": 4,
 "nbformat_minor": 4
}
