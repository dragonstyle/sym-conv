{
 "cells": [
  {
   "cell_type": "code",
   "execution_count": null,
   "metadata": {},
   "outputs": [],
   "source": [
    "from fastcore.test import *\n",
    "from manim import *\n",
    "import numpy as np\n",
    "from scipy.signal import convolve2d\n",
    "from sympy import (\n",
    "    Add,\n",
    "    Derivative,\n",
    "    Expr,\n",
    "    Function,\n",
    "    Indexed,\n",
    "    IndexedBase,\n",
    "    latex,\n",
    "    Mul,\n",
    "    Symbol,\n",
    "    symbols,\n",
    ")\n",
    "from typing import Tuple\n"
   ]
  },
  {
   "cell_type": "code",
   "execution_count": null,
   "metadata": {},
   "outputs": [],
   "source": [
    "config.media_embed = True"
   ]
  },
  {
   "attachments": {},
   "cell_type": "markdown",
   "metadata": {},
   "source": [
    "Below is the convolution function I implemented for my CNN course. It's probably not the most efficient implementation, but writing it was a good learning exercise. "
   ]
  },
  {
   "cell_type": "code",
   "execution_count": null,
   "metadata": {},
   "outputs": [],
   "source": [
    "#| export\n",
    "def convolve(X: np.ndarray, filter: np.ndarray, zero_pad_width: int, stride: int):\n",
    "    X_pad = np.pad(\n",
    "        X,\n",
    "        ((zero_pad_width, zero_pad_width), (zero_pad_width, zero_pad_width)),\n",
    "        mode='constant',\n",
    "        constant_values=(0.0, 0.0),\n",
    "    )\n",
    "\n",
    "    in_H, in_W = X.shape\n",
    "    f, f = filter.shape\n",
    "\n",
    "    out_H = int((in_H + (2 * zero_pad_width) - f) / stride) + 1\n",
    "    out_W = int((in_W + (2 * zero_pad_width) - f) / stride) + 1\n",
    "\n",
    "    output = np.zeros((out_H, out_W), dtype=X.dtype)\n",
    "\n",
    "    for out_row in range(out_H):\n",
    "        for out_col in range(out_W):\n",
    "            in_start_row = out_row * stride\n",
    "            in_start_col = out_col * stride\n",
    "            output[out_row][out_col] = sum(\n",
    "                (\n",
    "                    X_pad[in_row][in_col] * filter[i][j]\n",
    "                    for i, in_row in enumerate(range(in_start_row, in_start_row + f))\n",
    "                    for j, in_col in enumerate(range(in_start_col, in_start_col + f))\n",
    "                )\n",
    "            )\n",
    "\n",
    "    return output"
   ]
  },
  {
   "attachments": {},
   "cell_type": "markdown",
   "metadata": {},
   "source": [
    "We can test it with some sample data."
   ]
  },
  {
   "cell_type": "code",
   "execution_count": null,
   "metadata": {},
   "outputs": [],
   "source": [
    "X_test = np.array(\n",
    "    [\n",
    "        [1.0, 2.0, 3.0, 4.0,],\n",
    "        [1.0, 2.0, 3.0, 4.0,],\n",
    "        [1.0, 2.0, 3.0, 4.0,],\n",
    "        [1.0, 2.0, 3.0, 4.0,],\n",
    "    ]\n",
    ")\n",
    "\n",
    "\n",
    "f_test = np.array(\n",
    "    [\n",
    "        [0.0, 1.0,],\n",
    "        [1.0, 0.0,],\n",
    "    ]\n",
    ")\n",
    "\n",
    "expected = np.array(\n",
    "    [\n",
    "        [3.0, 5.0, 7.0], \n",
    "        [3.0, 5.0, 7.0], \n",
    "        [3.0, 5.0, 7.0]\n",
    "    ]\n",
    ")\n",
    "\n",
    "test_eq(convolve(X_test, f_test, 0, 1), expected)"
   ]
  },
  {
   "cell_type": "code",
   "execution_count": null,
   "metadata": {},
   "outputs": [],
   "source": [
    "# Test output of our convolve function is consistent with scipy\n",
    "test_eq(\n",
    "    convolve(X_test, f_test, 0, 1), # ours\n",
    "    convolve2d(X_test, f_test, mode='valid') # scipy\n",
    ")"
   ]
  },
  {
   "attachments": {},
   "cell_type": "markdown",
   "metadata": {},
   "source": [
    "It turns out, the same convolution code works just as well when the contents of the input arrays are `Symbol`s instead of numbers!"
   ]
  },
  {
   "cell_type": "code",
   "execution_count": null,
   "metadata": {},
   "outputs": [
    {
     "data": {
      "text/plain": [
       "array([[w_{11}*x_{11} + w_{12}*x_{12} + w_{21}*x_{21} + w_{22}*x_{22},\n",
       "        w_{11}*x_{12} + w_{12}*x_{13} + w_{21}*x_{22} + w_{22}*x_{23},\n",
       "        w_{11}*x_{13} + w_{12}*x_{14} + w_{21}*x_{23} + w_{22}*x_{24}],\n",
       "       [w_{11}*x_{21} + w_{12}*x_{22} + w_{21}*x_{31} + w_{22}*x_{32},\n",
       "        w_{11}*x_{22} + w_{12}*x_{23} + w_{21}*x_{32} + w_{22}*x_{33},\n",
       "        w_{11}*x_{23} + w_{12}*x_{24} + w_{21}*x_{33} + w_{22}*x_{34}],\n",
       "       [w_{11}*x_{31} + w_{12}*x_{32} + w_{21}*x_{41} + w_{22}*x_{42},\n",
       "        w_{11}*x_{32} + w_{12}*x_{33} + w_{21}*x_{42} + w_{22}*x_{43},\n",
       "        w_{11}*x_{33} + w_{12}*x_{34} + w_{21}*x_{43} + w_{22}*x_{44}]],\n",
       "      dtype=object)"
      ]
     },
     "execution_count": null,
     "metadata": {},
     "output_type": "execute_result"
    }
   ],
   "source": [
    "X_test = np.array([\n",
    "    [Symbol(r'x_{11}'), Symbol(r'x_{12}'), Symbol(r'x_{13}'), Symbol(r'x_{14}'),],\n",
    "    [Symbol(r'x_{21}'), Symbol(r'x_{22}'), Symbol(r'x_{23}'), Symbol(r'x_{24}'),],\n",
    "    [Symbol(r'x_{31}'), Symbol(r'x_{32}'), Symbol(r'x_{33}'), Symbol(r'x_{34}'),],\n",
    "    [Symbol(r'x_{41}'), Symbol(r'x_{42}'), Symbol(r'x_{43}'), Symbol(r'x_{44}'),],\n",
    "])\n",
    "\n",
    "\n",
    "f_test = np.array([\n",
    "    [Symbol(r'w_{11}'), Symbol(r'w_{12}'),],\n",
    "    [Symbol(r'w_{21}'), Symbol(r'w_{22}')],\n",
    "])\n",
    "result = convolve(X_test, f_test, 0, 1)\n",
    "result"
   ]
  },
  {
   "attachments": {},
   "cell_type": "markdown",
   "metadata": {},
   "source": [
    "Each element of the output array is an _expression_ in terms of the input symbols that defines how that element is calculated. We can pretty-print the first-one to see it better:"
   ]
  },
  {
   "cell_type": "code",
   "execution_count": null,
   "metadata": {},
   "outputs": [
    {
     "data": {
      "text/latex": [
       "$\\displaystyle w_{11} x_{11} + w_{12} x_{12} + w_{21} x_{21} + w_{22} x_{22}$"
      ],
      "text/plain": [
       "w_{11}*x_{11} + w_{12}*x_{12} + w_{21}*x_{21} + w_{22}*x_{22}"
      ]
     },
     "execution_count": null,
     "metadata": {},
     "output_type": "execute_result"
    }
   ],
   "source": [
    "result[0][0]"
   ]
  },
  {
   "attachments": {},
   "cell_type": "markdown",
   "metadata": {},
   "source": [
    "This is exactly the expression for the first element of the convolution output. If you overlaid the filter on the top-left corner of the input matrix and then multipled elements and summed the products, this is the expression you'd get. By running the convolution function against symbols, we've been able to get the expressions that represent the convolution output. "
   ]
  }
 ],
 "metadata": {
  "kernelspec": {
   "display_name": "python3",
   "language": "python",
   "name": "python3"
  }
 },
 "nbformat": 4,
 "nbformat_minor": 4
}
